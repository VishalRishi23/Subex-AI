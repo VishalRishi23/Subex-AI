{
 "cells": [
  {
   "cell_type": "markdown",
   "metadata": {},
   "source": [
    "## Helper functions to get ground truths and detections"
   ]
  },
  {
   "cell_type": "markdown",
   "metadata": {},
   "source": [
    "### All the images are stored in 'images' folder. All the .xml files are stored in 'labels' folder "
   ]
  },
  {
   "cell_type": "code",
   "execution_count": 1,
   "metadata": {},
   "outputs": [],
   "source": [
    "import os\n",
    "import tensorflow as tf\n",
    "import cv2 as cv\n",
    "from PIL import Image\n",
    "import seaborn as sns\n",
    "import numpy as np\n",
    "import xml.etree.ElementTree as ET\n",
    "sns.set()"
   ]
  },
  {
   "cell_type": "markdown",
   "metadata": {},
   "source": [
    "### Load the trained model"
   ]
  },
  {
   "cell_type": "markdown",
   "metadata": {},
   "source": [
    "The saved_model.pb file contains the weights of the object detection network trained on the given dataset. The weights are stored in a seperate folder 'saved_model'. We have used a pretrained SSD ResNet50 and fine-tuned it on the given dataset"
   ]
  },
  {
   "cell_type": "code",
   "execution_count": 3,
   "metadata": {},
   "outputs": [],
   "source": [
    "detect_fn = tf.saved_model.load('saved_model')"
   ]
  },
  {
   "cell_type": "code",
   "execution_count": 4,
   "metadata": {},
   "outputs": [],
   "source": [
    "def boundingbox(im,model,threshold=0.3):\n",
    "    image_np=np.array(im)\n",
    "    input_tensor = tf.convert_to_tensor(image_np)\n",
    "    input_tensor = input_tensor[tf.newaxis, ...]\n",
    "    detections = model(input_tensor)\n",
    "    num_detections = int(detections.pop('num_detections'))\n",
    "    detections = {key: value[0, :num_detections].numpy()\n",
    "                   for key, value in detections.items()}\n",
    "    detections['num_detections'] = num_detections\n",
    "    detections['detection_classes'] = detections['detection_classes'].astype(np.int64)\n",
    "    boxes=list()\n",
    "    height=image_np.shape[0]\n",
    "    width=image_np.shape[1]\n",
    "    for i in range(detections['detection_boxes'].shape[0]):\n",
    "        box=detections['detection_boxes'][i]\n",
    "        if detections['detection_scores'][i]>threshold:\n",
    "            ymin=int(box[0]*height)\n",
    "            xmin=int(box[1]*width)\n",
    "            ymax=int(box[2]*height)\n",
    "            xmax=int(box[3]*width)\n",
    "            boxes.append([detections['detection_scores'][i],xmin,ymin,xmax,ymax])\n",
    "    return boxes"
   ]
  },
  {
   "cell_type": "code",
   "execution_count": 5,
   "metadata": {},
   "outputs": [],
   "source": [
    "def write_to_txt(suffix,boxes,output):\n",
    "    with open(output+suffix+'.txt', 'w') as f:\n",
    "        for box in boxes:\n",
    "            f.write('Table')\n",
    "            f.write(' ')\n",
    "            for item in box:\n",
    "                f.write(str(item))\n",
    "                f.write(' ')\n",
    "            f.write('\\n')"
   ]
  },
  {
   "cell_type": "code",
   "execution_count": 6,
   "metadata": {},
   "outputs": [],
   "source": [
    "def xml_writer(tree):\n",
    "    boxes=list()\n",
    "    root = tree.getroot()\n",
    "    for image in root.findall('object'):\n",
    "        for box in image.findall('bndbox'):\n",
    "            xmin = int(box.findall('xmin')[0].text)\n",
    "            ymin = int(box.findall('ymin')[0].text)\n",
    "            xmax = int(box.findall('xmax')[0].text)\n",
    "            ymax = int(box.findall('ymax')[0].text)\n",
    "            boxes.append([xmin,ymin,xmax,ymax])\n",
    "    return boxes"
   ]
  },
  {
   "cell_type": "code",
   "execution_count": 9,
   "metadata": {},
   "outputs": [],
   "source": [
    "path = 'images/'\n",
    "output='detections/'\n",
    "for f in os.listdir(path):\n",
    "    suffix = f.split('.')[0]\n",
    "    im = Image.open(path+f)\n",
    "    boxes=boundingbox(im,detect_fn)\n",
    "    write_to_txt(suffix,boxes,output)"
   ]
  },
  {
   "cell_type": "code",
   "execution_count": 7,
   "metadata": {},
   "outputs": [],
   "source": [
    "path='labels/'\n",
    "output='groundtruths/'\n",
    "for f in os.listdir(path):\n",
    "    suffix = f.split('.')[0]\n",
    "    tree = ET.parse(path+f)\n",
    "    boxes=xml_writer(tree)\n",
    "    write_to_txt(suffix,boxes,output)"
   ]
  },
  {
   "cell_type": "markdown",
   "metadata": {},
   "source": [
    "Run the following command in the command line terminal to see the mAP@(IOU=0.5) "
   ]
  },
  {
   "cell_type": "markdown",
   "metadata": {},
   "source": [
    "#### python pascalvoc.py -gtformat xyrb -detformat xyrb"
   ]
  },
  {
   "cell_type": "markdown",
   "metadata": {},
   "source": [
    "The 'results' folder contains the results"
   ]
  }
 ],
 "metadata": {
  "kernelspec": {
   "display_name": "Python 3",
   "language": "python",
   "name": "python3"
  },
  "language_info": {
   "codemirror_mode": {
    "name": "ipython",
    "version": 3
   },
   "file_extension": ".py",
   "mimetype": "text/x-python",
   "name": "python",
   "nbconvert_exporter": "python",
   "pygments_lexer": "ipython3",
   "version": "3.7.4"
  }
 },
 "nbformat": 4,
 "nbformat_minor": 2
}
