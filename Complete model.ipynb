{
 "cells": [
  {
   "cell_type": "code",
   "execution_count": 1,
   "metadata": {},
   "outputs": [],
   "source": [
    "import os\n",
    "import tensorflow as tf\n",
    "import cv2 as cv\n",
    "import matplotlib.pyplot as plt\n",
    "import numpy as np\n",
    "from PIL import Image\n",
    "import warnings\n",
    "warnings.filterwarnings('ignore')"
   ]
  },
  {
   "cell_type": "code",
   "execution_count": 2,
   "metadata": {},
   "outputs": [],
   "source": [
    "detect_fn = tf.saved_model.load('saved_model')"
   ]
  },
  {
   "cell_type": "code",
   "execution_count": 6,
   "metadata": {},
   "outputs": [],
   "source": [
    "def boundingbox(im,model,threshold=0.3):\n",
    "    image_np=np.array(im)\n",
    "    input_tensor = tf.convert_to_tensor(image_np)\n",
    "    input_tensor = input_tensor[tf.newaxis, ...]\n",
    "    detections = model(input_tensor)\n",
    "    num_detections = int(detections.pop('num_detections'))\n",
    "    detections = {key: value[0, :num_detections].numpy()\n",
    "                   for key, value in detections.items()}\n",
    "    detections['num_detections'] = num_detections\n",
    "    detections['detection_classes'] = detections['detection_classes'].astype(np.int64)\n",
    "    boxes=list()\n",
    "    height=image_np.shape[0]\n",
    "    width=image_np.shape[1]\n",
    "    for i in range(detections['detection_boxes'].shape[0]):\n",
    "        box=detections['detection_boxes'][i]\n",
    "        if detections['detection_scores'][i]>threshold:\n",
    "            ymin=int(box[0]*height)\n",
    "            xmin=int(box[1]*width)\n",
    "            ymax=int(box[2]*height)\n",
    "            xmax=int(box[3]*width)\n",
    "            boxes.append([detections['detection_scores'][i],xmin,ymin,xmax,ymax])\n",
    "    return boxes"
   ]
  },
  {
   "cell_type": "code",
   "execution_count": 7,
   "metadata": {},
   "outputs": [],
   "source": [
    "def write_to_txt(suffix,boxes,output):\n",
    "    with open(output+suffix+'.txt', 'w') as f:\n",
    "        for box in boxes:\n",
    "            f.write('Table')\n",
    "            f.write(' ')\n",
    "            for item in box:\n",
    "                f.write(str(item))\n",
    "                f.write(' ')\n",
    "            f.write('\\n')"
   ]
  },
  {
   "cell_type": "code",
   "execution_count": 9,
   "metadata": {},
   "outputs": [],
   "source": [
    "path = 'Test/'\n",
    "output='Test detections/'\n",
    "for f in os.listdir(path):\n",
    "    suffix = f.split('.')[0]\n",
    "    im = Image.open(path+f)\n",
    "    im = im.convert(\"RGB\")\n",
    "    boxes=boundingbox(im,detect_fn)\n",
    "    write_to_txt(suffix,boxes,output)"
   ]
  },
  {
   "cell_type": "code",
   "execution_count": 13,
   "metadata": {},
   "outputs": [],
   "source": [
    "from object_detection.utils import label_map_util\n",
    "from object_detection.utils import visualization_utils as viz_utils"
   ]
  },
  {
   "cell_type": "code",
   "execution_count": 14,
   "metadata": {},
   "outputs": [],
   "source": [
    "category_index = label_map_util.create_category_index_from_labelmap('label_map.pbtxt', use_display_name=True)"
   ]
  },
  {
   "cell_type": "code",
   "execution_count": 16,
   "metadata": {},
   "outputs": [],
   "source": [
    "path='Test/'\n",
    "output='Test images/'\n",
    "for f in os.listdir(path):\n",
    "    im = Image.open(path+f)\n",
    "    im = im.convert(\"RGB\")\n",
    "    image_np=np.array(im)\n",
    "    input_tensor = tf.convert_to_tensor(image_np)\n",
    "    input_tensor = input_tensor[tf.newaxis, ...]\n",
    "    detections = detect_fn(input_tensor)\n",
    "    num_detections = int(detections.pop('num_detections'))\n",
    "    detections = {key: value[0, :num_detections].numpy()\n",
    "                   for key, value in detections.items()}\n",
    "    detections['num_detections'] = num_detections\n",
    "    detections['detection_classes'] = detections['detection_classes'].astype(np.int64)\n",
    "    viz_utils.visualize_boxes_and_labels_on_image_array(\n",
    "          image_np,\n",
    "          detections['detection_boxes'],\n",
    "          detections['detection_classes'],\n",
    "          detections['detection_scores'],\n",
    "          category_index,\n",
    "          use_normalized_coordinates=True,\n",
    "          max_boxes_to_draw=200,\n",
    "          min_score_thresh=.30,\n",
    "          agnostic_mode=False)\n",
    "    cv.imwrite(output+f,image_np)"
   ]
  },
  {
   "cell_type": "code",
   "execution_count": null,
   "metadata": {},
   "outputs": [],
   "source": []
  }
 ],
 "metadata": {
  "kernelspec": {
   "display_name": "Python 3",
   "language": "python",
   "name": "python3"
  },
  "language_info": {
   "codemirror_mode": {
    "name": "ipython",
    "version": 3
   },
   "file_extension": ".py",
   "mimetype": "text/x-python",
   "name": "python",
   "nbconvert_exporter": "python",
   "pygments_lexer": "ipython3",
   "version": "3.7.4"
  }
 },
 "nbformat": 4,
 "nbformat_minor": 2
}
